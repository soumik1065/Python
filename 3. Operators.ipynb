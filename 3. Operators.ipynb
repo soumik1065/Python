{
 "cells": [
  {
   "cell_type": "markdown",
   "id": "3976ec45",
   "metadata": {},
   "source": [
    "# Operators"
   ]
  },
  {
   "cell_type": "markdown",
   "id": "5c676b39",
   "metadata": {},
   "source": [
    "# 1. Arithmetic Operators"
   ]
  },
  {
   "cell_type": "code",
   "execution_count": 1,
   "id": "6e1c4354",
   "metadata": {},
   "outputs": [
    {
     "name": "stdout",
     "output_type": "stream",
     "text": [
      "27\n",
      "23\n",
      "50\n",
      "12.5\n",
      "1\n",
      "625\n",
      "12\n"
     ]
    }
   ],
   "source": [
    "a=25\n",
    "b=2\n",
    "\n",
    "print(a+b) # Addition\n",
    "print(a-b) # Subtraction\n",
    "print(a*b) # Multiplication\n",
    "print(a/b) # Division\n",
    "print(a%b) # Modulus returns the remainder\n",
    "print(a**b) # Exponential\n",
    "print(a//b) # Floor division returns only the interger value before point"
   ]
  },
  {
   "cell_type": "markdown",
   "id": "021f1fd1",
   "metadata": {},
   "source": [
    "# 2. Assignment Operators"
   ]
  },
  {
   "cell_type": "code",
   "execution_count": 3,
   "id": "287edf10",
   "metadata": {},
   "outputs": [
    {
     "name": "stdout",
     "output_type": "stream",
     "text": [
      "5\n",
      "9\n",
      "7\n",
      "35\n",
      "17.5\n"
     ]
    }
   ],
   "source": [
    "a=5\n",
    "print(a)\n",
    "\n",
    "a+=4 # means a=a+4\n",
    "print(a)\n",
    "\n",
    "a-=2 # means a=a-2\n",
    "print(a)\n",
    "\n",
    "a*=5 # means a=a*5\n",
    "print(a)\n",
    "\n",
    "a/=2 # means a=a/2\n",
    "print(a)\n"
   ]
  },
  {
   "cell_type": "markdown",
   "id": "d4125e23",
   "metadata": {},
   "source": [
    "# 3. Comparison Operators"
   ]
  },
  {
   "cell_type": "code",
   "execution_count": 4,
   "id": "75cd18ee",
   "metadata": {},
   "outputs": [
    {
     "name": "stdout",
     "output_type": "stream",
     "text": [
      "False\n",
      "True\n",
      "True\n",
      "False\n",
      "True\n",
      "False\n"
     ]
    }
   ],
   "source": [
    "a=2\n",
    "b=3\n",
    "\n",
    "# ==, !=, >, <, >=, <=\n",
    "# returns a boolean value\n",
    "print(a==b)\n",
    "print(a!=b)\n",
    "print(a<b)\n",
    "print(a>b)\n",
    "print(a<=b)\n",
    "print(a>=b)"
   ]
  },
  {
   "cell_type": "markdown",
   "id": "4ce5d905",
   "metadata": {},
   "source": [
    "# 4. Logical Operators"
   ]
  },
  {
   "cell_type": "code",
   "execution_count": 6,
   "id": "ff5efca4",
   "metadata": {},
   "outputs": [
    {
     "name": "stdout",
     "output_type": "stream",
     "text": [
      "True\n",
      "True\n",
      "False\n"
     ]
    }
   ],
   "source": [
    "a=10\n",
    "\n",
    "# and, or, not\n",
    "print(a>5 and a<20) # returns True if both of the condition are True\n",
    "print(a>5 or a>20) # returns True if any of the condition are True\n",
    "print(not(a>5 and a<20)) # returns complement value"
   ]
  }
 ],
 "metadata": {
  "kernelspec": {
   "display_name": "Python 3 (ipykernel)",
   "language": "python",
   "name": "python3"
  },
  "language_info": {
   "codemirror_mode": {
    "name": "ipython",
    "version": 3
   },
   "file_extension": ".py",
   "mimetype": "text/x-python",
   "name": "python",
   "nbconvert_exporter": "python",
   "pygments_lexer": "ipython3",
   "version": "3.9.1"
  }
 },
 "nbformat": 4,
 "nbformat_minor": 5
}
