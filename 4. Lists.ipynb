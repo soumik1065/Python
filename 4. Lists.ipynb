{
 "cells": [
  {
   "cell_type": "markdown",
   "id": "87dddf27",
   "metadata": {},
   "source": [
    "# Lists"
   ]
  },
  {
   "cell_type": "markdown",
   "id": "037bec92",
   "metadata": {},
   "source": [
    "List is one of the built in datatype in python that helps to store more than one data like an array.\n",
    "Lists are created using [ ] "
   ]
  },
  {
   "cell_type": "code",
   "execution_count": 1,
   "id": "82c8e353",
   "metadata": {},
   "outputs": [
    {
     "name": "stdout",
     "output_type": "stream",
     "text": [
      "[1, 2, 3, 4, 5]\n",
      "['apple', 'banana', 'mango']\n",
      "[1, 4.5, True, 'Hello']\n"
     ]
    }
   ],
   "source": [
    "list1=[1,2,3,4,5]\n",
    "list2=['apple','banana','mango']\n",
    "list3=[1,4.5,True,\"Hello\"] # at a same time lists are able to store different datatypes\n",
    "\n",
    "print(list1)\n",
    "print(list2)\n",
    "print(list3)"
   ]
  },
  {
   "cell_type": "markdown",
   "id": "93063c57",
   "metadata": {},
   "source": [
    "# Access"
   ]
  },
  {
   "cell_type": "markdown",
   "id": "af36d892",
   "metadata": {},
   "source": [
    "Lists can also be accessed by index"
   ]
  },
  {
   "cell_type": "code",
   "execution_count": 2,
   "id": "d5ddd3ff",
   "metadata": {},
   "outputs": [
    {
     "name": "stdout",
     "output_type": "stream",
     "text": [
      "1\n",
      "2\n",
      "3\n",
      "4\n",
      "7\n"
     ]
    }
   ],
   "source": [
    "lists=[1,2,3,4,5,6,7,8,9]\n",
    "\n",
    "print(lists[0])\n",
    "print(lists[1])\n",
    "print(lists[2])\n",
    "print(lists[3])\n",
    "print(lists[6])"
   ]
  },
  {
   "cell_type": "markdown",
   "id": "c219d621",
   "metadata": {},
   "source": [
    "Negative Index"
   ]
  },
  {
   "cell_type": "code",
   "execution_count": 3,
   "id": "8d7ed43f",
   "metadata": {},
   "outputs": [
    {
     "name": "stdout",
     "output_type": "stream",
     "text": [
      "9\n",
      "8\n",
      "7\n",
      "4\n"
     ]
    }
   ],
   "source": [
    "lists=[1,2,3,4,5,6,7,8,9]\n",
    "\n",
    "print(lists[-1])\n",
    "print(lists[-2])\n",
    "print(lists[-3])\n",
    "print(lists[-6])"
   ]
  },
  {
   "cell_type": "markdown",
   "id": "eb0df7c7",
   "metadata": {},
   "source": [
    "# list() Constructor"
   ]
  },
  {
   "cell_type": "markdown",
   "id": "6917bc5d",
   "metadata": {},
   "source": [
    "lists are also created using list() constructor"
   ]
  },
  {
   "cell_type": "code",
   "execution_count": 1,
   "id": "7222168b",
   "metadata": {},
   "outputs": [
    {
     "name": "stdout",
     "output_type": "stream",
     "text": [
      "['Apple', 'Banana', 'Mango']\n"
     ]
    }
   ],
   "source": [
    "thisList=list((\"Apple\",\"Banana\",\"Mango\"))\n",
    "print(thisListList)"
   ]
  },
  {
   "cell_type": "markdown",
   "id": "bca4e749",
   "metadata": {},
   "source": [
    "# List Slicing "
   ]
  },
  {
   "cell_type": "code",
   "execution_count": 4,
   "id": "40a5bbeb",
   "metadata": {},
   "outputs": [
    {
     "name": "stdout",
     "output_type": "stream",
     "text": [
      "9\n",
      "[1, 2, 3, 4, 5, 6, 7, 8, 9]\n",
      "[1, 3, 5, 7, 9]\n",
      "[3, 4, 5, 6, 7]\n"
     ]
    }
   ],
   "source": [
    "List=[1,2,3,4,5,6,7,8,9]\n",
    "\n",
    "print(len(List)) # Finding Length of the List\n",
    "print(List[0:])\n",
    "print(List[0:9:2]) # [starting index : ending index : step]\n",
    "print(List[-7:-2]) # [len(List)-7 : len(List)-2]"
   ]
  },
  {
   "cell_type": "markdown",
   "id": "97f8e803",
   "metadata": {},
   "source": [
    "# Changing List Items"
   ]
  },
  {
   "cell_type": "code",
   "execution_count": 10,
   "id": "3cb1dd5e",
   "metadata": {},
   "outputs": [
    {
     "name": "stdout",
     "output_type": "stream",
     "text": [
      "[1, 2, 3, 4, 5]\n",
      "[1, 10, 3, 4, 5]\n"
     ]
    }
   ],
   "source": [
    "a=[1,2,3,4,5]\n",
    "print(a)\n",
    "a[1]=10 # item at index 1 will replaced by 10\n",
    "print(a)"
   ]
  },
  {
   "cell_type": "code",
   "execution_count": 11,
   "id": "a1c586fa",
   "metadata": {},
   "outputs": [
    {
     "name": "stdout",
     "output_type": "stream",
     "text": [
      "[1, 2, 3, 4, 5]\n",
      "[1, 10, 11, 12, 5]\n"
     ]
    }
   ],
   "source": [
    "b=[1,2,3,4,5]\n",
    "print(b)\n",
    "\n",
    "b[1:4]=[10,11,12] # changing using range\n",
    "print(b)"
   ]
  },
  {
   "cell_type": "markdown",
   "id": "bd81a055",
   "metadata": {},
   "source": [
    "# List Methods"
   ]
  },
  {
   "cell_type": "code",
   "execution_count": 12,
   "id": "0d1a17a7",
   "metadata": {},
   "outputs": [
    {
     "name": "stdout",
     "output_type": "stream",
     "text": [
      "[1, 2, 3, 4, 5, 6]\n",
      "[1, 2, 3, 4, 5, 6, 7]\n"
     ]
    }
   ],
   "source": [
    "x=[1,2,3,4,5,6]\n",
    "print(x)\n",
    "x.append(7) # add at end of the list\n",
    "print(x)\n",
    "\n"
   ]
  },
  {
   "cell_type": "code",
   "execution_count": 13,
   "id": "73a356fe",
   "metadata": {},
   "outputs": [
    {
     "name": "stdout",
     "output_type": "stream",
     "text": [
      "[1, 2, 3, 4, 5, 6, 7]\n",
      "[1, 2, 18, 3, 4, 5, 6, 7]\n"
     ]
    }
   ],
   "source": [
    "y=[1,2,3,4,5,6,7]\n",
    "print(y)\n",
    "\n",
    "y.insert(2,18) # add at any particular index\n",
    "print(y)"
   ]
  },
  {
   "cell_type": "code",
   "execution_count": 14,
   "id": "924a9d11",
   "metadata": {},
   "outputs": [
    {
     "name": "stdout",
     "output_type": "stream",
     "text": [
      "[1, 2, 3, 4]\n",
      "[1, 2, 3, 4, 5, 6, 7, 8]\n"
     ]
    }
   ],
   "source": [
    "a=[1,2,3,4]\n",
    "b=[5,6,7,8]\n",
    "print(a)\n",
    "\n",
    "a.extend(b) # join two lists\n",
    "print(a)"
   ]
  },
  {
   "cell_type": "code",
   "execution_count": 15,
   "id": "86ef2fe8",
   "metadata": {},
   "outputs": [
    {
     "name": "stdout",
     "output_type": "stream",
     "text": [
      "[1, 2, 3, 4, 5]\n",
      "[1, 2, 3, 5]\n"
     ]
    }
   ],
   "source": [
    "l=[1,2,3,4,5]\n",
    "print(l)\n",
    "\n",
    "l.remove(4) # remove any particular element from list\n",
    "print(l)"
   ]
  },
  {
   "cell_type": "code",
   "execution_count": 16,
   "id": "7b80d317",
   "metadata": {},
   "outputs": [
    {
     "name": "stdout",
     "output_type": "stream",
     "text": [
      "[1, 2, 3, 4, 5, 6, 7]\n",
      "[1, 2, 3, 4, 5, 6]\n"
     ]
    }
   ],
   "source": [
    "a=[1,2,3,4,5,6,7]\n",
    "print(a)\n",
    "\n",
    "a.pop() # remove the last element from the list\n",
    "print(a)"
   ]
  },
  {
   "cell_type": "code",
   "execution_count": 17,
   "id": "82017199",
   "metadata": {},
   "outputs": [
    {
     "name": "stdout",
     "output_type": "stream",
     "text": [
      "[1, 2, 3, 4, 5, 6, 7]\n",
      "[1, 2, 4, 5, 6, 7]\n"
     ]
    }
   ],
   "source": [
    "a=[1,2,3,4,5,6,7]\n",
    "print(a)\n",
    "\n",
    "a.pop(2) # also helps to remove any particular element in a given index\n",
    "print(a)"
   ]
  },
  {
   "cell_type": "markdown",
   "id": "77a12527",
   "metadata": {},
   "source": [
    "# Lists using loops"
   ]
  },
  {
   "cell_type": "markdown",
   "id": "ac93c89c",
   "metadata": {},
   "source": [
    "Using for loop"
   ]
  },
  {
   "cell_type": "code",
   "execution_count": 18,
   "id": "e3c91697",
   "metadata": {},
   "outputs": [
    {
     "name": "stdout",
     "output_type": "stream",
     "text": [
      "10\n",
      "11\n",
      "12\n",
      "13\n",
      "14\n",
      "15\n"
     ]
    }
   ],
   "source": [
    "lt=[10,11,12,13,14,15]\n",
    "\n",
    "for i in lt:\n",
    "    print(i)"
   ]
  },
  {
   "cell_type": "code",
   "execution_count": 20,
   "id": "4625d4d0",
   "metadata": {},
   "outputs": [
    {
     "name": "stdout",
     "output_type": "stream",
     "text": [
      "10\n",
      "11\n",
      "12\n",
      "13\n",
      "14\n",
      "15\n"
     ]
    }
   ],
   "source": [
    "lt=[10,11,12,13,14,15]\n",
    "\n",
    "for i in range(len(lt)):\n",
    "    print(lt[i])"
   ]
  },
  {
   "cell_type": "markdown",
   "id": "9ee498b6",
   "metadata": {},
   "source": [
    "Using while loop"
   ]
  },
  {
   "cell_type": "code",
   "execution_count": 23,
   "id": "3091b5a8",
   "metadata": {},
   "outputs": [
    {
     "name": "stdout",
     "output_type": "stream",
     "text": [
      "1\n",
      "2\n",
      "3\n",
      "4\n",
      "5\n",
      "6\n"
     ]
    }
   ],
   "source": [
    "lt=[1,2,3,4,5,6]\n",
    "\n",
    "i=0\n",
    "while(i<(len(lt))):\n",
    "    print(lt[i])\n",
    "    i+=1"
   ]
  },
  {
   "cell_type": "markdown",
   "id": "c2a9d59e",
   "metadata": {},
   "source": [
    "# List Sorting"
   ]
  },
  {
   "cell_type": "code",
   "execution_count": 24,
   "id": "e6abb52a",
   "metadata": {},
   "outputs": [
    {
     "name": "stdout",
     "output_type": "stream",
     "text": [
      "[23, 5, 43, 7, 98, 12]\n",
      "[5, 7, 12, 23, 43, 98]\n"
     ]
    }
   ],
   "source": [
    "a=[23,5,43,7,98,12]\n",
    "print(a)\n",
    "\n",
    "a.sort() # sorting a list in ascending order\n",
    "print(a)"
   ]
  },
  {
   "cell_type": "code",
   "execution_count": 25,
   "id": "3e6587b1",
   "metadata": {},
   "outputs": [
    {
     "name": "stdout",
     "output_type": "stream",
     "text": [
      "[23, 5, 43, 7, 98, 12]\n",
      "[98, 43, 23, 12, 7, 5]\n"
     ]
    }
   ],
   "source": [
    "a=[23,5,43,7,98,12]\n",
    "print(a)\n",
    "\n",
    "a.sort(reverse=True) # sorting a list in descending order\n",
    "print(a)"
   ]
  },
  {
   "cell_type": "code",
   "execution_count": 26,
   "id": "f4fd3dec",
   "metadata": {},
   "outputs": [
    {
     "name": "stdout",
     "output_type": "stream",
     "text": [
      "[1, 2, 3, 4, 5, 6]\n",
      "[6, 5, 4, 3, 2, 1]\n"
     ]
    }
   ],
   "source": [
    "a=[1,2,3,4,5,6]\n",
    "print(a)\n",
    "\n",
    "a.reverse() # helps in reversing the list\n",
    "print(a)"
   ]
  },
  {
   "cell_type": "code",
   "execution_count": null,
   "id": "f70ada2c",
   "metadata": {},
   "outputs": [],
   "source": []
  }
 ],
 "metadata": {
  "kernelspec": {
   "display_name": "Python 3 (ipykernel)",
   "language": "python",
   "name": "python3"
  },
  "language_info": {
   "codemirror_mode": {
    "name": "ipython",
    "version": 3
   },
   "file_extension": ".py",
   "mimetype": "text/x-python",
   "name": "python",
   "nbconvert_exporter": "python",
   "pygments_lexer": "ipython3",
   "version": "3.9.1"
  }
 },
 "nbformat": 4,
 "nbformat_minor": 5
}
