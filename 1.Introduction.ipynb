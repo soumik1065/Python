{
 "cells": [
  {
   "cell_type": "markdown",
   "id": "2afce315",
   "metadata": {},
   "source": [
    "# Python"
   ]
  },
  {
   "cell_type": "markdown",
   "id": "98015ddf",
   "metadata": {},
   "source": [
    "Python was conceived in the late 1980s by Guido van Rossum at Centrum Wiskunde & Informatica (CWI) in the Netherlands as a successor to the ABC programming language, which was inspired by SETL, capable of exception handling and interfacing with the Amoeba operating system.Its implementation began in December 1989. Van Rossum shouldered sole responsibility for the project, as the lead developer, until 12 July 2018, when he announced his \"permanent vacation\" from his responsibilities as Python's \"benevolent dictator for life\", a title the Python community bestowed upon him to reflect his long-term commitment as the project's chief decision-maker. In January 2019, active Python core developers elected a five-member Steering Council to lead the project.\n",
    "\n",
    "Python is a high level interpreted language and beginner friendly as well. Recent days python is used in various domains like Web Development, Data Science, Machine Learning, Deep Learning, AI, Game Development and many more"
   ]
  },
  {
   "cell_type": "code",
   "execution_count": 1,
   "id": "3d3ab1a7",
   "metadata": {},
   "outputs": [
    {
     "name": "stdout",
     "output_type": "stream",
     "text": [
      "Hello Everyone!!!\n"
     ]
    }
   ],
   "source": [
    "# First Program\n",
    "print(\"Hello Everyone!!!\") #print() is a function that helps to print anything on the output screen"
   ]
  },
  {
   "cell_type": "markdown",
   "id": "88c226c1",
   "metadata": {},
   "source": [
    "# Variables"
   ]
  },
  {
   "cell_type": "markdown",
   "id": "28885a71",
   "metadata": {},
   "source": [
    "Variables are just like containers that helps to store the values"
   ]
  },
  {
   "cell_type": "code",
   "execution_count": 2,
   "id": "0336a443",
   "metadata": {},
   "outputs": [
    {
     "name": "stdout",
     "output_type": "stream",
     "text": [
      "12\n",
      "10.3\n",
      "Python\n",
      "None\n"
     ]
    }
   ],
   "source": [
    "a=12\n",
    "b=10.3\n",
    "c=\"Python\"\n",
    "d=None\n",
    "\n",
    "print(a)\n",
    "print(b)\n",
    "print(c)\n",
    "print(d)"
   ]
  },
  {
   "cell_type": "markdown",
   "id": "90530362",
   "metadata": {},
   "source": [
    "# Data Types"
   ]
  },
  {
   "cell_type": "code",
   "execution_count": 3,
   "id": "0e09e6eb",
   "metadata": {},
   "outputs": [
    {
     "name": "stdout",
     "output_type": "stream",
     "text": [
      "<class 'int'>\n",
      "<class 'float'>\n",
      "<class 'str'>\n",
      "<class 'complex'>\n",
      "<class 'NoneType'>\n",
      "<class 'bool'>\n",
      "<class 'list'>\n",
      "<class 'tuple'>\n",
      "<class 'dict'>\n",
      "<class 'set'>\n"
     ]
    }
   ],
   "source": [
    "a=12\n",
    "b=10.3\n",
    "c=\"Python\"\n",
    "d=2+7j\n",
    "e=None\n",
    "f=True\n",
    "g=[1,2,3,4,5]\n",
    "h=('apple','banana','mango')\n",
    "i={\"name\":\"Soumik\", \"Dept\":\"CSE\"}\n",
    "j={11,12,13,14}\n",
    "\n",
    "#type() is a function provides the type of the data present on the particular variable\n",
    "print(type(a))\n",
    "print(type(b))\n",
    "print(type(c))\n",
    "print(type(d))\n",
    "print(type(e))\n",
    "print(type(f))\n",
    "print(type(g))\n",
    "print(type(h))\n",
    "print(type(i))\n",
    "print(type(j))\n"
   ]
  },
  {
   "cell_type": "markdown",
   "id": "426a7487",
   "metadata": {},
   "source": [
    "# Type Casting"
   ]
  },
  {
   "cell_type": "markdown",
   "id": "282053cc",
   "metadata": {},
   "source": [
    "Converting one datatype to another"
   ]
  },
  {
   "cell_type": "code",
   "execution_count": 7,
   "id": "421e8a1f",
   "metadata": {},
   "outputs": [
    {
     "name": "stdout",
     "output_type": "stream",
     "text": [
      "20\n",
      "<class 'str'>\n",
      "20\n",
      "<class 'int'>\n",
      "20.0\n",
      "<class 'float'>\n"
     ]
    }
   ],
   "source": [
    "var=\"20\"\n",
    "print(var)\n",
    "print(type(var))\n",
    "\n",
    "var=int(var)\n",
    "print(var)\n",
    "print(type(var))\n",
    "\n",
    "var=float(var)\n",
    "print(var)\n",
    "print(type(var))"
   ]
  },
  {
   "cell_type": "code",
   "execution_count": null,
   "id": "6033591f",
   "metadata": {},
   "outputs": [],
   "source": []
  }
 ],
 "metadata": {
  "kernelspec": {
   "display_name": "Python 3 (ipykernel)",
   "language": "python",
   "name": "python3"
  },
  "language_info": {
   "codemirror_mode": {
    "name": "ipython",
    "version": 3
   },
   "file_extension": ".py",
   "mimetype": "text/x-python",
   "name": "python",
   "nbconvert_exporter": "python",
   "pygments_lexer": "ipython3",
   "version": "3.9.1"
  }
 },
 "nbformat": 4,
 "nbformat_minor": 5
}
