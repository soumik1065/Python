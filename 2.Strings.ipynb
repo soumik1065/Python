{
 "cells": [
  {
   "cell_type": "markdown",
   "id": "c611909d",
   "metadata": {},
   "source": [
    "# Strings"
   ]
  },
  {
   "cell_type": "markdown",
   "id": "d9cc62c4",
   "metadata": {},
   "source": [
    "Strings can be written in both ' ' and \" \". But the multiline strings are written in ''' '''"
   ]
  },
  {
   "cell_type": "code",
   "execution_count": 1,
   "id": "49486f6d",
   "metadata": {},
   "outputs": [
    {
     "name": "stdout",
     "output_type": "stream",
     "text": [
      "Hello All\n",
      "Hello All\n",
      "Hello All\n",
      "Hope all you are doing all\n",
      "Have a nice day\n",
      "Thank you\n"
     ]
    }
   ],
   "source": [
    "a='Hello All'\n",
    "b=\"Hello All\"\n",
    "c='''Hello All\n",
    "Hope all you are doing all\n",
    "Have a nice day\n",
    "Thank you'''\n",
    "\n",
    "print(a)\n",
    "print(b)\n",
    "print(c)"
   ]
  },
  {
   "cell_type": "markdown",
   "id": "283491da",
   "metadata": {},
   "source": [
    "Characters in a strings can be accessed like an array as well by providing the index value"
   ]
  },
  {
   "cell_type": "code",
   "execution_count": 2,
   "id": "4151361d",
   "metadata": {},
   "outputs": [
    {
     "name": "stdout",
     "output_type": "stream",
     "text": [
      "H\n",
      "i\n",
      " \n",
      "n\n"
     ]
    }
   ],
   "source": [
    "str=\"Hi Everyone\"\n",
    "\n",
    "print(str[0])\n",
    "print(str[1])\n",
    "print(str[2])\n",
    "print(str[9])"
   ]
  },
  {
   "cell_type": "markdown",
   "id": "92a1e63f",
   "metadata": {},
   "source": [
    "Negative indices are also allowed in python"
   ]
  },
  {
   "cell_type": "code",
   "execution_count": 3,
   "id": "397825ae",
   "metadata": {},
   "outputs": [
    {
     "name": "stdout",
     "output_type": "stream",
     "text": [
      "e\n",
      "n\n",
      "o\n",
      "e\n"
     ]
    }
   ],
   "source": [
    "str=\"Hi Everyone\"\n",
    "\n",
    "print(str[-1])\n",
    "print(str[-2])\n",
    "print(str[-3])\n",
    "print(str[-6])"
   ]
  },
  {
   "cell_type": "markdown",
   "id": "ae1824d2",
   "metadata": {},
   "source": [
    "Characters in a string can be accessed using loops as well"
   ]
  },
  {
   "cell_type": "code",
   "execution_count": 4,
   "id": "c8494f16",
   "metadata": {},
   "outputs": [
    {
     "name": "stdout",
     "output_type": "stream",
     "text": [
      "H\n",
      "i\n",
      " \n",
      "E\n",
      "v\n",
      "e\n",
      "r\n",
      "y\n",
      "o\n",
      "n\n",
      "e\n",
      ",\n",
      " \n",
      "W\n",
      "e\n",
      "l\n",
      "c\n",
      "o\n",
      "m\n",
      "e\n"
     ]
    }
   ],
   "source": [
    "str=\"Hi Everyone, Welcome\"\n",
    "\n",
    "for i in str:\n",
    "    print(i)"
   ]
  },
  {
   "cell_type": "markdown",
   "id": "9bb8d174",
   "metadata": {},
   "source": [
    "# len() Function"
   ]
  },
  {
   "cell_type": "markdown",
   "id": "5f0a5d5d",
   "metadata": {},
   "source": [
    "Helps to find the length of the string"
   ]
  },
  {
   "cell_type": "code",
   "execution_count": 5,
   "id": "c0f10bd0",
   "metadata": {},
   "outputs": [
    {
     "name": "stdout",
     "output_type": "stream",
     "text": [
      "20\n"
     ]
    }
   ],
   "source": [
    "str=\"Hi Everyone, Welcome\"\n",
    "\n",
    "print(len(str)) #Blank spaces are also considered "
   ]
  },
  {
   "cell_type": "markdown",
   "id": "3e74aab9",
   "metadata": {},
   "source": [
    "# String Slicing"
   ]
  },
  {
   "cell_type": "code",
   "execution_count": 9,
   "id": "80294378",
   "metadata": {},
   "outputs": [
    {
     "name": "stdout",
     "output_type": "stream",
     "text": [
      "Hel\n",
      "Hello World\n",
      "Hello \n"
     ]
    }
   ],
   "source": [
    "a=\"Hello World\"\n",
    "print(a[0:3]) #[starting index : ending index] but while printing (ending index - 1) will be printed\n",
    "print(a[0:])\n",
    "print(a[:6])"
   ]
  },
  {
   "cell_type": "markdown",
   "id": "a26ffeb2",
   "metadata": {},
   "source": [
    "Negative Slicing "
   ]
  },
  {
   "cell_type": "code",
   "execution_count": 13,
   "id": "6055a978",
   "metadata": {},
   "outputs": [
    {
     "name": "stdout",
     "output_type": "stream",
     "text": [
      "oWor\n",
      "oWor\n"
     ]
    }
   ],
   "source": [
    "b=\"HelloWorld\"\n",
    "print(b[-6:-2])  #b[-6:-2] is converted to b[len(b)-6: len(b)-2] \n",
    "print(b[len(b)-6: len(b)-2])"
   ]
  },
  {
   "cell_type": "markdown",
   "id": "77e48589",
   "metadata": {},
   "source": [
    "# Concatenation of Strings"
   ]
  },
  {
   "cell_type": "code",
   "execution_count": 15,
   "id": "065e301a",
   "metadata": {},
   "outputs": [
    {
     "name": "stdout",
     "output_type": "stream",
     "text": [
      "Hi Everyone\n"
     ]
    }
   ],
   "source": [
    "a=\"Hi\"\n",
    "b=\"Everyone\"\n",
    "\n",
    "print(a+\" \"+b) # + is used to concatenate two or more strings"
   ]
  },
  {
   "cell_type": "markdown",
   "id": "cacb5581",
   "metadata": {},
   "source": [
    "# String Methods"
   ]
  },
  {
   "cell_type": "code",
   "execution_count": 20,
   "id": "7d0a5bca",
   "metadata": {},
   "outputs": [
    {
     "name": "stdout",
     "output_type": "stream",
     "text": [
      "   HI EVERYONE, HOW ARE YOU ALL    \n",
      "   hi everyone, how are you all    \n",
      "Hi Everyone, How are you all\n",
      "   Hi World, How are you all    \n"
     ]
    }
   ],
   "source": [
    "str=\"   Hi Everyone, How are you all    \"\n",
    "\n",
    "print(str.upper()) # returns the string in Upper Case\n",
    "print(str.lower()) # returns the string in Lower Case\n",
    "print(str.strip()) # removes the blank spaces from the before and after of the string\n",
    "print(str.replace('Everyone','World')) # replace Everyone to World\n",
    "\n",
    "# For more information you can visit the python documentation from the official website"
   ]
  },
  {
   "cell_type": "code",
   "execution_count": null,
   "id": "53c6a0d8",
   "metadata": {},
   "outputs": [],
   "source": []
  }
 ],
 "metadata": {
  "kernelspec": {
   "display_name": "Python 3 (ipykernel)",
   "language": "python",
   "name": "python3"
  },
  "language_info": {
   "codemirror_mode": {
    "name": "ipython",
    "version": 3
   },
   "file_extension": ".py",
   "mimetype": "text/x-python",
   "name": "python",
   "nbconvert_exporter": "python",
   "pygments_lexer": "ipython3",
   "version": "3.9.1"
  }
 },
 "nbformat": 4,
 "nbformat_minor": 5
}
